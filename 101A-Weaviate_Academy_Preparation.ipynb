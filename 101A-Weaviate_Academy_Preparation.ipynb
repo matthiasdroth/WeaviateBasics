{
 "cells": [
  {
   "cell_type": "markdown",
   "id": "4b8cef54",
   "metadata": {},
   "source": [
    "# 101A Weaviate Academy Preparation\n",
    "https://weaviate.io/developers/academy/zero_to_mvp/setup\n",
    "\n",
    "## Overview\n",
    "Follow this short guide to make sure that you are set up to use Weaviate with the Python client.\n",
    "\n",
    "## Python & Python client\n",
    "If you have not yet set up Python and the Weaviate Python client, follow the below instructions.\n",
    "\n",
    "### Install Python\n",
    "You can install Python 3 in a variety of ways. One easy way is to use an appropriate installer for your system as per instructions on [Python.org](https://www.python.org/downloads/).\n",
    "\n",
    "### Install the Weaviate client\n",
    "> VIRTUAL ENVIRONMENTS<br>It is best practice to use virtual environments to isolate projects.<br>If you're not familiar with virtual environments, we highly recommend reading up on them - this tutorial on [FreeCodeCamp](https://www.freecodecamp.org/news/how-to-setup-virtual-environments-in-python/) is a good resource, as is this article on [RealPython](https://realpython.com/python-virtual-environments-a-primer/), which goes a little more in-depth.\n",
    "\n",
    "You will also need the following libraries:\n",
    "\n",
    "`weaviate-client`\n",
    "\n",
    "---\n",
    "Activate your virtual environment, and install the Weaviate client with:\n",
    "\n",
    "`pip install weaviate-client`\n",
    "\n",
    "### Running your Python code\n",
    "We recommend running Python code in a Jupyter notebook. You can install the library by running:\n",
    "\n",
    "`pip install notebook`\n",
    "\n",
    "---\n",
    "Then running the shown code in a Jupyter notebook. Of course, you can also run it in any way that you prefer.\n",
    "> NEW TO JUPYTER?<br>To learn how to use Jupyter notebooks, [try this tutorial](https://realpython.com/jupyter-notebook-introduction/).\n",
    "\n",
    "## Weaviate\n",
    "### Instance access\n",
    "We will be accessing a pre-built instance of Weaviate throughout the course, located at [https://edu-demo.weaviate.network](https://edu-demo.weaviate.network).\n",
    "\n",
    "You can access the instance with the below code, using a read-only Weaviate API key.\n",
    "\n",
    "Confirm that you can run the below code, to make sure it is all functioning as expected."
   ]
  },
  {
   "cell_type": "code",
   "execution_count": 1,
   "id": "f0dfddd2",
   "metadata": {},
   "outputs": [
    {
     "data": {
      "text/plain": [
       "True"
      ]
     },
     "execution_count": 1,
     "metadata": {},
     "output_type": "execute_result"
    }
   ],
   "source": [
    "import weaviate\n",
    "import os\n",
    "client = weaviate.Client(\n",
    "    url=\"https://edu-demo.weaviate.network\",\n",
    "    auth_client_secret=weaviate.AuthApiKey(api_key=\"learn-weaviate\"), # A read-only API Key for the Weaviate instance\n",
    ")\n",
    "client.is_ready() # This should return `True`"
   ]
  },
  {
   "cell_type": "markdown",
   "id": "bbd5ae5a",
   "metadata": {},
   "source": [
    "### Inference API Key\n",
    "We will be using OpenAI's API, so you will need an API key.\n",
    "\n",
    "If you haven't yet, create an OpenAI account, and create a [free API key here](https://platform.openai.com/account/api-keys).\n",
    "\n",
    "Then, instantiate the client as shown below, replacing YOUR-OPENAI-API-KEY with your own API key for OpenAI."
   ]
  },
  {
   "cell_type": "code",
   "execution_count": 2,
   "id": "bad083bf",
   "metadata": {},
   "outputs": [
    {
     "name": "stdout",
     "output_type": "stream",
     "text": [
      "OPENAI_API_KEY loaded\n"
     ]
    },
    {
     "data": {
      "text/plain": [
       "<weaviate.client.Client at 0x107813c40>"
      ]
     },
     "execution_count": 2,
     "metadata": {},
     "output_type": "execute_result"
    }
   ],
   "source": [
    "from dotenv import load_dotenv\n",
    "load_dotenv()\n",
    "OPENAI_API_KEY = os.getenv(\"OPENAI_API_KEY\")\n",
    "print(\"OPENAI_API_KEY loaded\")\n",
    "client = weaviate.Client(\n",
    "    url=\"https://edu-demo.weaviate.network\",\n",
    "    auth_client_secret=weaviate.AuthApiKey(api_key=\"learn-weaviate\"),  # A read-only API Key for the Weaviate instance\n",
    "    additional_headers={\n",
    "        \"X-OpenAI-Api-Key\": OPENAI_API_KEY # Replaced w/ my OPENAI API key\n",
    "    }\n",
    ")\n",
    "client"
   ]
  },
  {
   "cell_type": "markdown",
   "id": "4700bce6",
   "metadata": {},
   "source": [
    "## Code examples\n",
    "### Client instantiation\n",
    "For brevity, many code examples in the Weaviate Academy will not show the instantiation of the client. So, where you see examples such as:"
   ]
  },
  {
   "cell_type": "code",
   "execution_count": 3,
   "id": "41145868",
   "metadata": {},
   "outputs": [
    {
     "name": "stdout",
     "output_type": "stream",
     "text": [
      "{\n",
      "  \"data\": {\n",
      "    \"Get\": {\n",
      "      \"JeopardyQuestion\": [\n",
      "        {\n",
      "          \"answer\": \"the Milky Way\",\n",
      "          \"question\": \"This is the name of our own galaxy\"\n",
      "        },\n",
      "        {\n",
      "          \"answer\": \"escaping the Earth's gravity (and go off into outer space, on your way to the moon, for instance)\",\n",
      "          \"question\": \"It takes approximately 24,840 MPH to achieve this\"\n",
      "        }\n",
      "      ]\n",
      "    }\n",
      "  }\n",
      "}\n"
     ]
    }
   ],
   "source": [
    "import json\n",
    "response = (\n",
    "    client\n",
    "    .query\n",
    "    .get(\"JeopardyQuestion\", [\"question\", \"answer\"])\n",
    "    .with_near_text({\"concepts\": [\"intergalactic travel\"]})\n",
    "    .with_limit(2)\n",
    "    .do()\n",
    ")\n",
    "print(json.dumps(response, indent=2))"
   ]
  },
  {
   "cell_type": "markdown",
   "id": "8f8cc3b1",
   "metadata": {},
   "source": [
    "If not done, yet, you will need to instantiate the client as shown in the previous section. So, the above code would become:"
   ]
  },
  {
   "cell_type": "code",
   "execution_count": 4,
   "id": "e4f440b4",
   "metadata": {},
   "outputs": [
    {
     "name": "stdout",
     "output_type": "stream",
     "text": [
      "OPENAI_API_KEY loaded\n",
      "{\n",
      "  \"data\": {\n",
      "    \"Get\": {\n",
      "      \"JeopardyQuestion\": [\n",
      "        {\n",
      "          \"answer\": \"the Milky Way\",\n",
      "          \"question\": \"This is the name of our own galaxy\"\n",
      "        },\n",
      "        {\n",
      "          \"answer\": \"escaping the Earth's gravity (and go off into outer space, on your way to the moon, for instance)\",\n",
      "          \"question\": \"It takes approximately 24,840 MPH to achieve this\"\n",
      "        }\n",
      "      ]\n",
      "    }\n",
      "  }\n",
      "}\n"
     ]
    }
   ],
   "source": [
    "# instantiation\n",
    "load_dotenv()\n",
    "OPENAI_API_KEY = os.getenv(\"OPENAI_API_KEY\")\n",
    "print(\"OPENAI_API_KEY loaded\")\n",
    "client = weaviate.Client(\n",
    "    url=\"https://edu-demo.weaviate.network\",\n",
    "    auth_client_secret=weaviate.AuthApiKey(api_key=\"learn-weaviate\"),  # A read-only API Key for the Weaviate instance\n",
    "    additional_headers={\n",
    "        \"X-OpenAI-Api-Key\": OPENAI_API_KEY # Replaced w/ my OPENAI API key\n",
    "    }\n",
    ")\n",
    "# query\n",
    "response = (\n",
    "    client\n",
    "    .query\n",
    "    .get(\"JeopardyQuestion\", [\"question\", \"answer\"])\n",
    "    .with_near_text({\"concepts\": [\"intergalactic travel\"]})\n",
    "    .with_limit(2)\n",
    "    .do()\n",
    ")\n",
    "print(json.dumps(response, indent=2))"
   ]
  },
  {
   "cell_type": "markdown",
   "id": "04dfcf3d",
   "metadata": {},
   "source": [
    "### GraphQL\n",
    "Weaviate Academy units are written to be used with a client library such as Python. So, you will not need to run GraphQL or REST queries directly.\n",
    "\n",
    "But note that we also show raw GraphQL/REST queries as well as the Python code where relevant to help you learn the underlying query structures.\n",
    "\n",
    "So please be aware that when we show a query such as this:"
   ]
  },
  {
   "cell_type": "code",
   "execution_count": 5,
   "id": "d5da0b9e",
   "metadata": {},
   "outputs": [
    {
     "name": "stdout",
     "output_type": "stream",
     "text": [
      "{\n",
      "  \"data\": {\n",
      "    \"Get\": {\n",
      "      \"JeopardyQuestion\": [\n",
      "        {\n",
      "          \"answer\": \"the Milky Way\",\n",
      "          \"question\": \"This is the name of our own galaxy\"\n",
      "        },\n",
      "        {\n",
      "          \"answer\": \"escaping the Earth's gravity (and go off into outer space, on your way to the moon, for instance)\",\n",
      "          \"question\": \"It takes approximately 24,840 MPH to achieve this\"\n",
      "        }\n",
      "      ]\n",
      "    }\n",
      "  }\n",
      "}\n"
     ]
    }
   ],
   "source": [
    "response = (\n",
    "    client\n",
    "    .query\n",
    "    .get(\"JeopardyQuestion\", [\"question\", \"answer\"])\n",
    "    .with_near_text({\"concepts\": [\"intergalactic travel\"]})\n",
    "    .with_limit(2)\n",
    "    .do()\n",
    ")\n",
    "print(json.dumps(response, indent=2))"
   ]
  },
  {
   "cell_type": "markdown",
   "id": "a01ca027",
   "metadata": {},
   "source": [
    "---\n",
    "We are performing, under the hood, the below:\n",
    "```\n",
    "{\n",
    "  Get {\n",
    "    JeopardyQuestion (\n",
    "      nearText: {\n",
    "        concepts: [\"intergalactic travel\"]\n",
    "        }\n",
    "      limit: 2\n",
    "    ) {\n",
    "      question\n",
    "      answer\n",
    "    }\n",
    "  }\n",
    "}\n",
    "```\n",
    "\n",
    "We will show them in separate tabs going forward where applicable, somewhat like so:\n",
    "- **Python** $\\Rightarrow$ (this will show Python code)\n",
    "- **GraphQL** $\\Rightarrow$ (this will show GraphQL code)\n",
    "\n",
    "### Raw GraphQL queries\n",
    "Note that you can run raw GraphQL queries directly with the Weaviate Python client, or with the [Weaviate Console](https://console.weaviate.io/).\n",
    "\n",
    "In Python, you can run a GraphQL query directly with:"
   ]
  },
  {
   "cell_type": "code",
   "execution_count": 6,
   "id": "e70a222a",
   "metadata": {},
   "outputs": [
    {
     "name": "stdout",
     "output_type": "stream",
     "text": [
      "{\n",
      "  \"data\": {\n",
      "    \"Get\": {\n",
      "      \"JeopardyQuestion\": [\n",
      "        {\n",
      "          \"answer\": \"the Milky Way\",\n",
      "          \"question\": \"This is the name of our own galaxy\"\n",
      "        },\n",
      "        {\n",
      "          \"answer\": \"escaping the Earth's gravity (and go off into outer space, on your way to the moon, for instance)\",\n",
      "          \"question\": \"It takes approximately 24,840 MPH to achieve this\"\n",
      "        }\n",
      "      ]\n",
      "    }\n",
      "  }\n",
      "}\n"
     ]
    }
   ],
   "source": [
    "gql_query = \"\"\"\n",
    "# ===== Equivalent GraphQL example =====\n",
    "{\n",
    "  Get {\n",
    "    JeopardyQuestion (\n",
    "      nearText: {\n",
    "        concepts: [\"intergalactic travel\"]\n",
    "        }\n",
    "      limit: 2\n",
    "    ) {\n",
    "      question\n",
    "      answer\n",
    "    }\n",
    "  }\n",
    "}\n",
    "# ===== END Equivalent GraphQL example =====\n",
    "\"\"\"\n",
    "gql_response = client.query.raw(gql_query)\n",
    "print(json.dumps(gql_response, indent=2))"
   ]
  },
  {
   "cell_type": "markdown",
   "id": "0a9cc2c8",
   "metadata": {},
   "source": [
    "### Key takeaways\n",
    "- You have installed the Weaviate client library in your preferred environment.\n",
    "- You have an OpenAI inference key.\n",
    "- You have some way of running Python code.\n",
    "- You know how to instantiate the Weaviate Python client, and run the shown example code.\n",
    "- The Academy units will show Python code, but also raw GraphQL or REST snippets where applicable."
   ]
  }
 ],
 "metadata": {
  "kernelspec": {
   "display_name": "Python 3 (ipykernel)",
   "language": "python",
   "name": "python3"
  },
  "language_info": {
   "codemirror_mode": {
    "name": "ipython",
    "version": 3
   },
   "file_extension": ".py",
   "mimetype": "text/x-python",
   "name": "python",
   "nbconvert_exporter": "python",
   "pygments_lexer": "ipython3",
   "version": "3.10.12"
  }
 },
 "nbformat": 4,
 "nbformat_minor": 5
}
