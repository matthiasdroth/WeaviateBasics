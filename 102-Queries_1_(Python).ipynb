{
 "cells": [
  {
   "cell_type": "markdown",
   "id": "718cf5fb",
   "metadata": {},
   "source": [
    "# 102 Queries 1 (Python)\n",
    "https://weaviate.io/developers/academy/zero_to_mvp/queries_1\n",
    "\n",
    "## Unit overview"
   ]
  },
  {
   "cell_type": "code",
   "execution_count": 1,
   "id": "bf824a9b",
   "metadata": {},
   "outputs": [
    {
     "name": "stderr",
     "output_type": "stream",
     "text": [
      "/Users/matthias/Desktop/WeaviateBasics/env/lib/python3.10/site-packages/IPython/core/display.py:431: UserWarning: Consider using IPython.display.IFrame instead\n",
      "  warnings.warn(\"Consider using IPython.display.IFrame instead\")\n"
     ]
    },
    {
     "data": {
      "text/html": [
       "<iframe width=\"640\" height=\"360\" src=\"https://www.youtube.com/embed/Fk9pDfBhnTI\" allowfullscreen></iframe>"
      ],
      "text/plain": [
       "<IPython.core.display.HTML object>"
      ]
     },
     "execution_count": 1,
     "metadata": {},
     "output_type": "execute_result"
    }
   ],
   "source": [
    "from IPython.display import HTML\n",
    "HTML('<iframe width=\"640\" height=\"360\" src=\"https://www.youtube.com/embed/Fk9pDfBhnTI\" allowfullscreen></iframe>')"
   ]
  },
  {
   "cell_type": "markdown",
   "id": "96742aac",
   "metadata": {},
   "source": [
    "In this unit, you will learn how to efficiently retrieve relevant objects or aggregated information from Weaviate.\n",
    "\n",
    "You have already encountered some examples of vector searches. In this section, we will delve deeper by reviewing the various vector search methods available in Weaviate, such as `nearVector`, `nearObject`, and `nearText`.\n",
    "\n",
    "Along with vector search methods, you will also discover filters that can be employed to accompany search operators. For instance, you will learn how to search for data objects that exclude specific criteria.\n",
    "\n",
    "As we examine these capabilities, we will simultaneously use them as a means to gain insight into the inner workings of Weaviate.\n",
    "\n",
    "Upon completing this unit, you will possess a thorough understanding of how to effectively query Weaviate to obtain desired results, as well as the underlying mechanisms that make it all possible.\n",
    "\n",
    "### Prerequisites\n",
    "(**Required**) A Python (3) environment with `weaviate-client` installed.\n",
    "(**Required**) Complete [101A Weaviate Academy Preparation](https://weaviate.io/developers/academy/zero_to_mvp/setup).\n",
    "(Recommended) Complete [Hello, Weaviate](https://weaviate.io/developers/academy/zero_to_mvp/hello_weaviate).\n",
    "\n",
    "## Learning objectives\n",
    "Each unit includes a set of Learning Goals and Learning Outcomes which form the unit's guiding principles.\n",
    "- *Learning Goals* describe the unit's key topics and ideas.\n",
    "- *Learning Outcomes* on the other hand describe tangible skills that the learner should be able to demonstrate.\n",
    "\n",
    "### Here, we will cover:\n",
    "Learning Goals\n",
    "- How to retrieve objects and properties.\n",
    "- The structure of returned responses from Weaviate.\n",
    "- The difference between `nearVector`, `nearObject` and `nearText`.\n",
    "- How to aggregate meta information about objects.\n",
    "- How to add filters to vector searches.\n",
    "- Weaviate's internal vector search process.\n",
    "\n",
    "### By the time you are finished, you will be able to:\n",
    "Learning Outcomes\n",
    "- Construct \"Get\" queries to retrieve relevant objects and desired properties.\n",
    "- Parse a response from Weaviate.\n",
    "- Explain the differences between `nearVector`, `nearObject` and `nearText`.\n",
    "- Construct `Aggregate` queries to retrieve aggregated properties about relevant objects.\n",
    "- Add filters to queries to exclude certain results.\n",
    "- Describe how `nearObject` and `nearText` queries are converted to vector searches, and what pre-filtering is.\n",
    "\n",
    "# Get{} objects\n",
    "https://weaviate.io/developers/academy/zero_to_mvp/queries_1/get\n",
    "\n",
    "Make sure to complete the [Weaviate Academy Preparation](https://weaviate.io/developers/academy/zero_to_mvp/setup) mini-unit before starting this unit to make sure that you can run the client library and connect to the demo Weaviate instance without issues.\n",
    "\n",
    "Below, you will see code snippets that do not include client instantiation details. Before running these snippets, make sure to instantiate the client as shown below."
   ]
  },
  {
   "cell_type": "code",
   "execution_count": 2,
   "id": "f146d700",
   "metadata": {},
   "outputs": [
    {
     "name": "stdout",
     "output_type": "stream",
     "text": [
      "environment variables loaded\n"
     ]
    },
    {
     "data": {
      "text/plain": [
       "<weaviate.client.Client at 0x1072e8280>"
      ]
     },
     "execution_count": 2,
     "metadata": {},
     "output_type": "execute_result"
    }
   ],
   "source": [
    "import os\n",
    "from dotenv import load_dotenv\n",
    "load_dotenv()\n",
    "WEAVIATE_CLIENT_URL = os.getenv(\"WEAVIATE_CLIENT_URL\")\n",
    "WEAVIATE_CLIENT_KEY = os.getenv(\"WEAVIATE_CLIENT_KEY\")\n",
    "HUGGINGFACE_API_KEY = os.getenv(\"HUGGINGFACE_API_KEY\")\n",
    "OPENAI_API_KEY = os.getenv(\"OPENAI_API_KEY\")\n",
    "print(\"environment variables loaded\")\n",
    "#\n",
    "import weaviate\n",
    "client = weaviate.Client(\n",
    "    url=\"https://edu-demo.weaviate.network\",\n",
    "    auth_client_secret=weaviate.AuthApiKey(api_key=\"learn-weaviate\"), # A read-only API Key for the Weaviate instance\n",
    "    additional_headers={\"X-OpenAI-Api-Key\": OPENAI_API_KEY} # Replace this with YOUR OpenAI API key\n",
    ")\n",
    "client"
   ]
  },
  {
   "cell_type": "markdown",
   "id": "7c8670c8",
   "metadata": {},
   "source": [
    "## Overview"
   ]
  },
  {
   "cell_type": "code",
   "execution_count": 3,
   "id": "0a6cedab",
   "metadata": {},
   "outputs": [
    {
     "name": "stderr",
     "output_type": "stream",
     "text": [
      "/Users/matthias/Desktop/WeaviateBasics/env/lib/python3.10/site-packages/IPython/core/display.py:431: UserWarning: Consider using IPython.display.IFrame instead\n",
      "  warnings.warn(\"Consider using IPython.display.IFrame instead\")\n"
     ]
    },
    {
     "data": {
      "text/html": [
       "<iframe width=\"640\" height=\"360\" src=\"https://www.youtube.com/embed/q2UuBIJVLEM\" allowfullscreen></iframe>"
      ],
      "text/plain": [
       "<IPython.core.display.HTML object>"
      ]
     },
     "execution_count": 3,
     "metadata": {},
     "output_type": "execute_result"
    }
   ],
   "source": [
    "HTML('<iframe width=\"640\" height=\"360\" src=\"https://www.youtube.com/embed/q2UuBIJVLEM\" allowfullscreen></iframe>')"
   ]
  },
  {
   "cell_type": "markdown",
   "id": "a4efab59",
   "metadata": {},
   "source": [
    "## About `Get` queries\n",
    "In many use cases, retrieving objects from a Weaviate instance may be the most common operation.\n",
    "\n",
    "For example, a user may want to retrieve a list of passages most closely related to the input query, or they may wish to retrieve a list of images which are most similar to another image. It is even possible to retrieve a set of images that best match a given passage.\n",
    "\n",
    "In Weaviate, such operations to retrieve objects are performed using the `Get` function.\n",
    "\n",
    "### `Get` function syntax\n",
    "A basic `Get` function looks as follows:\n",
    "```python\n",
    "response = client.query.get(\n",
    "    <Class>,\n",
    "    [<properties>]\n",
    ").<arguments>.do()\n",
    "```\n",
    "- The `Class` field specifies the name of the class of objects to be retrieved.\n",
    "- The `arguments` argument specifies the search criteria to be used to retrieve the objects.\n",
    "- The `properties` argument specifies the properties of the objects to be retrieved, including any `_additional` properties.\n",
    "\n",
    "Now let's try out some concrete `Get` queries.\n",
    "\n",
    "## Standalone `Get` queries\n",
    "A basic, standalone, `Get` query might look as follows:\n",
    "\n",
    "### Example"
   ]
  },
  {
   "cell_type": "code",
   "execution_count": 4,
   "id": "e18cdd2e",
   "metadata": {},
   "outputs": [
    {
     "name": "stdout",
     "output_type": "stream",
     "text": [
      "{\n",
      "  \"data\": {\n",
      "    \"Get\": {\n",
      "      \"JeopardyQuestion\": [\n",
      "        {\n",
      "          \"answer\": \"Jonah\",\n",
      "          \"question\": \"This prophet passed the time he spent inside a fish offering up prayers\"\n",
      "        },\n",
      "        {\n",
      "          \"answer\": \"lay eggs\",\n",
      "          \"question\": \"Pythons are oviparous, meaning they do this\"\n",
      "        }\n",
      "      ]\n",
      "    }\n",
      "  }\n",
      "}\n"
     ]
    }
   ],
   "source": [
    "import json\n",
    "response = (\n",
    "    client\n",
    "    .query\n",
    "    .get(\"JeopardyQuestion\", [\"question\", \"answer\"])\n",
    "    .with_limit(2)\n",
    "    .do()\n",
    ")\n",
    "print(json.dumps(response, indent=2))"
   ]
  },
  {
   "cell_type": "markdown",
   "id": "019c4dfc",
   "metadata": {},
   "source": [
    "What results do you expect? See if you can correspond each field to the syntax.\n",
    "\n",
    "Now, try it out yourself. This query should return something like the below:\n",
    "\n",
    "```\n",
    "{\n",
    "  \"data\": {\n",
    "    \"Get\": {\n",
    "      \"JeopardyQuestion\": [\n",
    "        {\n",
    "          \"answer\": \"Amazon.com\",\n",
    "          \"question\": \"On July 16, 1995 this company made its first sale, a science textbook\"\n",
    "        },\n",
    "        {\n",
    "          \"answer\": \"Parfait\",\n",
    "          \"question\": \"The French name of this layered ice cream dessert means \\\"perfect\\\"\"\n",
    "        }\n",
    "      ]\n",
    "    }\n",
    "  }\n",
    "}\n",
    "```\n",
    "\n",
    "### Response object from Weaviate\n",
    "As you see above, the response object from Weaviate is in JSON format, where the results are obtained via the `data` field. It is then arranged in a corresponding manner to reflect the query as well as the queried object.\n",
    "\n",
    "In the above example, the `Get` field reflects the query function, and the `JeopardyQuestion` field reflects the queried object class, containing returned objects. Each object contains answer and `question` fields, reflecting the requested properties.\n",
    "\n",
    "> In this case, Weaviate will return two objects due to the `.with_limit(2)` argument. Without this limit, Weaviate would return a maximum number according to its configuration.<br><br>IS THIS QUERY USEFUL?<br>\n",
    "As this does not apply any user-specific criteria to the search, the specific results will likely not be very useful.<br>However, this may be a viable method for \"sanity\" checks, such as checking that you can connect to a Weaviate instance, or that at least some objects have been imported successfully.\n",
    "\n",
    "### `Class` and `properties`\n",
    "In the above example, we specify a `Class` of `JeopardyQuestion` and `properties` of `questions` and `answer`.\n",
    "\n",
    "That is possible because those follow the structure of our data in Weaviate. To see the available data classes and properties, you can take a look at the Weaviate schema, as shown below:\n",
    "\n",
    "You can fetch the schema like this - try it out!\n",
    "\n",
    "`client.schema.get()`\n",
    "\n",
    "```\n",
    "{\n",
    "  \"classes\": [\n",
    "    {\n",
    "      \"class\": \"JeopardyQuestion\",\n",
    "      \"properties\": [\n",
    "        {\n",
    "          \"dataType\": [\"text\"],\n",
    "          \"name\": \"question\",\n",
    "          ...  // Truncated\n",
    "        },       \n",
    "        {\n",
    "          \"dataType\": [\"text\"],\n",
    "          \"name\": \"answer\",\n",
    "          ...  // Truncated\n",
    "        },  \n",
    "        {\n",
    "          \"dataType\": [\"int\"],\n",
    "          \"name\": \"points\"\n",
    "          ...  // Truncated\n",
    "        },        \n",
    "        ...  // Truncated\n",
    "      ],\n",
    "      ...  // Truncated\n",
    "    }\n",
    "  ]\n",
    "}\n",
    "```\n",
    "\n",
    "The `Class` and `properties` fields must correspond to collections of objects that have been defined in the Weaviate schema.\n",
    "\n",
    "The `Class` must be the name of a data object collection, and the `properties` a list of properties to be retrieved.\n",
    "\n",
    "The schema contains the `JeopardyQuestion` class, with properties: `question`, `answer` and `points`.\n",
    "\n",
    "So, a query retrieving objects from the `Question` class could specify any of its properties such as `question`, `answer`, and `points`.\n",
    "\n",
    "> EXERCISE<br>Try out the above query again, with these changes.<br>- Can you get the points property as well?<br>- What happens if you don't specify any properties?\n",
    "\n",
    "> CAN I SEARCH MULTIPLE CLASSES AT ONCE?<br>No. You can only search one class at a time.<br><br>This is because each class constitutes a single `vector space`. If you want to search multiple collections of objects, you will have to perform multiple searches, or consider putting them into one class and using a filter to distinguish between them as required.<br><br>We will consider this topic in more detail in a later unit, including what it means for each class to constitute a distinct `vector space`, and how to think about building a schema in Weaviate.\n",
    "\n",
    "## `Get` with `additional` properties\n",
    "You can retrieve additional properties that are not defined in the schema. These properties may be inherent to the object, or relate to the query performed.\n",
    "\n",
    "### Example\n",
    "In this example, we've built on the previous example to add the `.with_additional` method.\n",
    "\n",
    "Python\n",
    "```python\n",
    "response = (\n",
    "    client\n",
    "    .query\n",
    "    .get(\"JeopardyQuestion\", [\"question\", \"answer\"])\n",
    "    .with_limit(2)\n",
    "    .with_near_text({\"concepts\": \"Intergalactic travel\"})\n",
    "    .with_additional([\"distance\", \"id\"])\n",
    "    .do()\n",
    ")\n",
    "print(json.dumps(response, indent=2))\n",
    "```\n",
    "\n",
    "GraphQL\n",
    "```\n",
    "{\n",
    "  Get {\n",
    "    JeopardyQuestion (\n",
    "      limit: 2\n",
    "      nearText: {\n",
    "        concepts: [\"Intergalactic travel\"],\n",
    "      }\n",
    "    ) {\n",
    "      question\n",
    "      answer\n",
    "      _additional {\n",
    "        distance\n",
    "        id\n",
    "      }\n",
    "    }\n",
    "  }\n",
    "}\n",
    "```\n",
    "\n",
    "Again, consider what the response might look like. What would have changed in the response?\n",
    "\n",
    "Now, try it out yourself. This query should return something like the below:\n",
    "```\n",
    "{\n",
    "  \"data\": {\n",
    "    \"Get\": {\n",
    "      \"JeopardyQuestion\": [\n",
    "        {\n",
    "          \"_additional\": {\n",
    "            \"distance\": 0.1791926,\n",
    "            \"id\": \"b1645a32-0c22-5814-8f35-58f142eadf7e\"\n",
    "          },\n",
    "          \"answer\": \"escaping the Earth's gravity (and go off into outer space, on your way to the moon, for instance)\",\n",
    "          \"question\": \"It takes approximately 24,840 MPH to achieve this\"\n",
    "        },\n",
    "        {\n",
    "          \"_additional\": {\n",
    "            \"distance\": 0.18123823,\n",
    "            \"id\": \"ef263438-b152-5540-97f7-99f4076bd124\"\n",
    "          },\n",
    "          \"answer\": \"the Milky Way\",\n",
    "          \"question\": \"This is the name of our own galaxy\"\n",
    "        }\n",
    "      ]\n",
    "    }\n",
    "  }\n",
    "}\n",
    "```\n",
    "\n",
    "### Response object from Weaviate\n",
    "In this response, you see that the `_additional` field has been added to the response object, with `distance` and `id` nested under it.\n",
    "\n",
    "> Here, the `distance` and `id` properties contain the object's distance to the query and its unique ID respectively.\n",
    "\n",
    "### `_additonal` properties\n",
    "As the name suggests, `_additional` properties are separate to those explicitly created as class properties.\n",
    "\n",
    "The above query included the `distance` property in the `_additional` field. This represents the degree of similarity (or, in this case, the *dissimilarity*) between the input vector and the vector of the object.\n",
    "\n",
    "> VECTORS AVAILABLE THROUGH `_additional`<br>The object vector can also be retrieved through an `_additional` field, by specifying `vector` in its sub-field.<br>Note that the returned vector in many cases will be a very long list of numbers.\n",
    "\n",
    "> EXERCISE<br>Try out the above query again, with these changes.<br>- Can you get the `vector` property as well?<br>- Earlier, providing an empty list as the main properties under the `.get()` method will have caused an error. What happens if you try it again, now that you are requesting additional properties?\n",
    "\n",
    "## Review\n",
    "### Review exercise\n",
    "See in-line exercises.\n",
    "\n",
    "### Key takeaways\n",
    "- The `Get` function can be used to retrieve objects in Weaviate.\n",
    "- The `Get` function syntax requires specifying the class, properties, and any additional arguments related to the search criteria.\n",
    "- Weaviate responses are in JSON format.\n",
    "- `Class` and `properties` fields must correspond to the objects and properties defined in the Weaviate schema.\n",
    "- `Get` queries can retrieve additional properties not defined in the schema, which can be inherent to the object or related to the query performed.\n",
    "- `_additional` properties can include distance, id, and vector information, providing more context and information about the retrieved objects."
   ]
  },
  {
   "cell_type": "code",
   "execution_count": null,
   "id": "433e1690",
   "metadata": {},
   "outputs": [],
   "source": []
  }
 ],
 "metadata": {
  "kernelspec": {
   "display_name": "Python 3 (ipykernel)",
   "language": "python",
   "name": "python3"
  },
  "language_info": {
   "codemirror_mode": {
    "name": "ipython",
    "version": 3
   },
   "file_extension": ".py",
   "mimetype": "text/x-python",
   "name": "python",
   "nbconvert_exporter": "python",
   "pygments_lexer": "ipython3",
   "version": "3.10.12"
  }
 },
 "nbformat": 4,
 "nbformat_minor": 5
}
